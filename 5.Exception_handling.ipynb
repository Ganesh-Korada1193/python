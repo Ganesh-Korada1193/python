{
 "cells": [
  {
   "cell_type": "markdown",
   "id": "3083e4ef",
   "metadata": {},
   "source": [
    "## Exception Handling"
   ]
  },
  {
   "cell_type": "markdown",
   "id": "64536915",
   "metadata": {},
   "source": [
    "### try"
   ]
  },
  {
   "cell_type": "markdown",
   "id": "54647897",
   "metadata": {},
   "source": [
    "### except"
   ]
  },
  {
   "cell_type": "markdown",
   "id": "3891ddda",
   "metadata": {},
   "source": [
    "### else"
   ]
  },
  {
   "cell_type": "markdown",
   "id": "09b65a28",
   "metadata": {},
   "source": [
    "### finally"
   ]
  },
  {
   "cell_type": "markdown",
   "id": "2b9e51d6",
   "metadata": {},
   "source": []
  }
 ],
 "metadata": {
  "language_info": {
   "name": "python"
  }
 },
 "nbformat": 4,
 "nbformat_minor": 5
}
