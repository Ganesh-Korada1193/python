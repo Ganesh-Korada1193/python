{
 "cells": [
  {
   "cell_type": "markdown",
   "id": "114c7083",
   "metadata": {},
   "source": [
    "\n",
    "\n"
   ]
  },
  {
   "cell_type": "markdown",
   "id": "9e9a77ee",
   "metadata": {},
   "source": [
    "## Functions"
   ]
  },
  {
   "cell_type": "markdown",
   "id": "36e2afe2",
   "metadata": {},
   "source": [
    "### Syntax "
   ]
  },
  {
   "cell_type": "markdown",
   "id": "47e4d297",
   "metadata": {},
   "source": [
    "###  parameter handling"
   ]
  },
  {
   "cell_type": "markdown",
   "id": "32863cd0",
   "metadata": {},
   "source": [
    "### Return values "
   ]
  },
  {
   "cell_type": "markdown",
   "id": "1e137c91",
   "metadata": {},
   "source": [
    "### variable scope"
   ]
  },
  {
   "cell_type": "markdown",
   "id": "4b4c9b01",
   "metadata": {},
   "source": [
    "### Advanced techniques\n",
    "- closures\n",
    "- decorators"
   ]
  },
  {
   "cell_type": "markdown",
   "id": "3d2ce581",
   "metadata": {},
   "source": [
    "### Versatile functions: \n",
    "- range()\n",
    "- map()\n",
    "- filter\n",
    "- lambda functions"
   ]
  },
  {
   "cell_type": "markdown",
   "id": "44258e16",
   "metadata": {},
   "source": []
  }
 ],
 "metadata": {
  "language_info": {
   "name": "python"
  }
 },
 "nbformat": 4,
 "nbformat_minor": 5
}
