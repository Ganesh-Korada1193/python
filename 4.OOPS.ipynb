{
 "cells": [
  {
   "cell_type": "markdown",
   "id": "94c64fc3",
   "metadata": {},
   "source": [
    "## OOPS"
   ]
  },
  {
   "cell_type": "markdown",
   "id": "a4f3ab23",
   "metadata": {},
   "source": [
    "### encapsulation"
   ]
  },
  {
   "cell_type": "markdown",
   "id": "a7e05b18",
   "metadata": {},
   "source": [
    "### inheritance"
   ]
  },
  {
   "cell_type": "markdown",
   "id": "3c28860d",
   "metadata": {},
   "source": [
    "### polymorphism"
   ]
  },
  {
   "cell_type": "markdown",
   "id": "c45a2597",
   "metadata": {},
   "source": [
    "### abstract classes"
   ]
  },
  {
   "cell_type": "markdown",
   "id": "341b020f",
   "metadata": {},
   "source": [
    "### iterators\n"
   ]
  },
  {
   "cell_type": "markdown",
   "id": "602f8432",
   "metadata": {},
   "source": [
    "### Building modular, reusable, and scalable code"
   ]
  },
  {
   "cell_type": "markdown",
   "id": "31940dd6",
   "metadata": {},
   "source": []
  }
 ],
 "metadata": {
  "language_info": {
   "name": "python"
  }
 },
 "nbformat": 4,
 "nbformat_minor": 5
}
