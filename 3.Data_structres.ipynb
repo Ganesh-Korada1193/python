{
 "cells": [
  {
   "cell_type": "markdown",
   "id": "dedea47d",
   "metadata": {},
   "source": [
    "## Data Structres."
   ]
  },
  {
   "cell_type": "markdown",
   "id": "fbda7b5a",
   "metadata": {},
   "source": [
    "### Lists"
   ]
  },
  {
   "cell_type": "markdown",
   "id": "257e6433",
   "metadata": {},
   "source": [
    "### strings"
   ]
  },
  {
   "cell_type": "markdown",
   "id": "645abd5f",
   "metadata": {},
   "source": [
    "### tuples"
   ]
  },
  {
   "cell_type": "markdown",
   "id": "6cee7e56",
   "metadata": {},
   "source": [
    "### sets"
   ]
  },
  {
   "cell_type": "markdown",
   "id": "29e4f785",
   "metadata": {},
   "source": [
    "### dictionaries"
   ]
  },
  {
   "cell_type": "markdown",
   "id": "29831e7b",
   "metadata": {},
   "source": [
    "### arrays"
   ]
  },
  {
   "cell_type": "markdown",
   "id": "c915f4aa",
   "metadata": {},
   "source": [
    "### collections module data structures"
   ]
  }
 ],
 "metadata": {
  "language_info": {
   "name": "python"
  }
 },
 "nbformat": 4,
 "nbformat_minor": 5
}
