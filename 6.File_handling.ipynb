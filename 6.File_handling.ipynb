{
 "cells": [
  {
   "cell_type": "markdown",
   "id": "ae0d1ecc",
   "metadata": {},
   "source": [
    "## File handling"
   ]
  },
  {
   "cell_type": "markdown",
   "id": "23c65396",
   "metadata": {},
   "source": [
    "### Writing File"
   ]
  },
  {
   "cell_type": "markdown",
   "id": "aaa34e60",
   "metadata": {},
   "source": [
    "### Reading File"
   ]
  },
  {
   "cell_type": "markdown",
   "id": "28cb33aa",
   "metadata": {},
   "source": []
  }
 ],
 "metadata": {
  "language_info": {
   "name": "python"
  }
 },
 "nbformat": 4,
 "nbformat_minor": 5
}
