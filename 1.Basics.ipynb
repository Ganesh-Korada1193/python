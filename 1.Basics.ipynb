{
 "cells": [
  {
   "cell_type": "markdown",
   "id": "60e28c14",
   "metadata": {},
   "source": [
    "### Writing First Python program"
   ]
  },
  {
   "cell_type": "markdown",
   "id": "0a7454c1",
   "metadata": {},
   "source": [
    "### Understanding comments"
   ]
  },
  {
   "cell_type": "markdown",
   "id": "8cf5b6ff",
   "metadata": {},
   "source": [
    "### Variables"
   ]
  },
  {
   "cell_type": "markdown",
   "id": "c41e9b2f",
   "metadata": {},
   "source": [
    "### Data types"
   ]
  },
  {
   "cell_type": "markdown",
   "id": "8f639851",
   "metadata": {},
   "source": [
    "#### 1. Integer (int)"
   ]
  },
  {
   "cell_type": "code",
   "execution_count": 3,
   "id": "2a53dc67",
   "metadata": {},
   "outputs": [
    {
     "name": "stdout",
     "output_type": "stream",
     "text": [
      "<class 'int'>\n"
     ]
    }
   ],
   "source": [
    "x = 10\n",
    "y = -5\n",
    "print(type(x))  # <class 'int'>"
   ]
  },
  {
   "cell_type": "markdown",
   "id": "1b828abb",
   "metadata": {},
   "source": [
    "#### 2. Float(float)"
   ]
  },
  {
   "cell_type": "code",
   "execution_count": 2,
   "id": "afe3185b",
   "metadata": {},
   "outputs": [
    {
     "name": "stdout",
     "output_type": "stream",
     "text": [
      "<class 'float'>\n"
     ]
    }
   ],
   "source": [
    "# Numbers with decimal points.\n",
    "pi = 3.14\n",
    "height = -2.5\n",
    "print(type(pi))  # <class 'float'>"
   ]
  },
  {
   "cell_type": "markdown",
   "id": "a99f370b",
   "metadata": {},
   "source": [
    "#### 3. String(str)"
   ]
  },
  {
   "cell_type": "code",
   "execution_count": null,
   "id": "0febb4e3",
   "metadata": {},
   "outputs": [],
   "source": [
    "name = \"Alice\"\n",
    "greeting = 'Hello, World!'\n",
    "print(type(name))  # <class 'str'>"
   ]
  },
  {
   "cell_type": "markdown",
   "id": "e0c84a91",
   "metadata": {},
   "source": [
    "#### 4. Boolean (bool)"
   ]
  },
  {
   "cell_type": "code",
   "execution_count": 4,
   "id": "6bc45276",
   "metadata": {},
   "outputs": [
    {
     "name": "stdout",
     "output_type": "stream",
     "text": [
      "<class 'bool'>\n"
     ]
    }
   ],
   "source": [
    "# True or False values.\n",
    "is_active = True\n",
    "is_closed = False\n",
    "print(type(is_active))  # <class 'bool'>"
   ]
  },
  {
   "cell_type": "markdown",
   "id": "c14f85f4",
   "metadata": {},
   "source": [
    "### Keywords"
   ]
  },
  {
   "cell_type": "markdown",
   "id": "60a75f52",
   "metadata": {},
   "source": [
    "\n",
    "Keywords are reserved words in Python that have special meaning and cannot be used as variable names or identifiers. They are used to define the syntax and structure of the Python language.\n",
    "\n",
    "\n",
    "---\n",
    "\n",
    "\n",
    "Examples of Python keywords:\n",
    "\n",
    "* **if, else, elif** – for conditional statements\n",
    "* **for, while, break, continue** – for loops\n",
    "* **def, return** – for defining functions\n",
    "* **class** – for defining classes\n",
    "* **import, from, as** – for importing modules\n",
    "* **True, False, None** – special constant values\n",
    "* **and, or, not** – logical operators\n",
    "* **in, is** – membership and identity operators"
   ]
  },
  {
   "cell_type": "markdown",
   "id": "3eca4e59",
   "metadata": {},
   "source": [
    "### operators"
   ]
  },
  {
   "cell_type": "markdown",
   "id": "d11e9459",
   "metadata": {},
   "source": [
    "Operators are special symbols used to perform operations on variables and values. Python supports several types of operators:"
   ]
  },
  {
   "cell_type": "markdown",
   "id": "63d7382a",
   "metadata": {},
   "source": [
    "1. Arithmetic Operators:\n",
    "    \n",
    "    Used for mathematical operations.\n",
    "\n",
    "- \\+ (Addition): a + b\n",
    "- \\- (Subtraction): a - b\n",
    "- \\* (Multiplication): a * b\n",
    "- \\/ (Division): a / b\n",
    "- \\// (Floor Division): a // b\n",
    "- \\% (Modulus): a % b\n",
    "- \\** (Exponentiation): a ** b"
   ]
  },
  {
   "cell_type": "markdown",
   "id": "110e68ab",
   "metadata": {},
   "source": [
    "2. Comparison Operators:\n",
    "    \n",
    "    Compare values and return True or False.\n",
    "\n",
    "- \\== (Equal to)\n",
    "- \\!= (Not equal to)\n",
    "- \\> (Greater than)\n",
    "- \\< (Less than)\n",
    "- \\>= (Greater than or equal to)\n",
    "- \\<= (Less than or equal to)"
   ]
  },
  {
   "cell_type": "markdown",
   "id": "2ff6ec37",
   "metadata": {},
   "source": [
    "3. Logical Operators:\n",
    "\n",
    "    Combine conditional statements.\n",
    "\n",
    "- and\n",
    "- or\n",
    "- not"
   ]
  },
  {
   "cell_type": "markdown",
   "id": "7e03ebc7",
   "metadata": {},
   "source": [
    "4. Assignment Operators:\n",
    "    \n",
    "    Assign values to variables.\n",
    "\n",
    "- \\=\n",
    "- \\+=, -=, *=, /=, =, %=, **="
   ]
  },
  {
   "cell_type": "markdown",
   "id": "73886e31",
   "metadata": {},
   "source": [
    "5. Membership Operators:\n",
    "    Test membership in a sequence.\n",
    "\n",
    "- in\n",
    "- not in"
   ]
  },
  {
   "cell_type": "markdown",
   "id": "b2d1b3a8",
   "metadata": {},
   "source": [
    "7. Bitwise Operators:\n",
    "\n",
    "    Operate on binary numbers.\n",
    "\n",
    "Types of Bitwise Operators:\n",
    "\n",
    "1. & (AND): Sets each bit to 1 if both bits are 1\n",
    "    <br>a & b\n",
    "2. | (OR): Sets each bit to 1 if one of two bits is 1\n",
    "    <br>a | b\n",
    "3. ^ (XOR): Sets each bit to 1 if only one of two bits is 1\n",
    "    <br>a ^ b\n",
    "4. ~ (NOT): Inverts all the bits\n",
    "    <br>~a\n",
    "5. << (Left Shift): Shifts bits to the left\n",
    "    <br>a << n\n",
    "6. \\>> (Right Shift): Shifts bits to the right\n",
    "    <br>a >> n\n",
    "\n",
    "Bitwise operators are mainly used for low-level programming, such as working with binary data.\n"
   ]
  },
  {
   "cell_type": "code",
   "execution_count": 5,
   "id": "06bda03d",
   "metadata": {},
   "outputs": [
    {
     "name": "stdout",
     "output_type": "stream",
     "text": [
      "1\n",
      "7\n",
      "6\n",
      "-6\n",
      "10\n",
      "2\n"
     ]
    }
   ],
   "source": [
    "a = 5      # 0101 in binary\n",
    "b = 3      # 0011 in binary\n",
    "\n",
    "print(a & b)   # 1 (0001)\n",
    "print(a | b)   # 7 (0111)\n",
    "print(a ^ b)   # 6 (0110)\n",
    "print(~a)      # -6 (inverts all bits)\n",
    "print(a << 1)  # 10 (1010)\n",
    "print(a >> 1)  # 2 (0010)"
   ]
  },
  {
   "cell_type": "code",
   "execution_count": null,
   "id": "66bd2747",
   "metadata": {},
   "outputs": [],
   "source": []
  }
 ],
 "metadata": {
  "kernelspec": {
   "display_name": "Python 3",
   "language": "python",
   "name": "python3"
  },
  "language_info": {
   "codemirror_mode": {
    "name": "ipython",
    "version": 3
   },
   "file_extension": ".py",
   "mimetype": "text/x-python",
   "name": "python",
   "nbconvert_exporter": "python",
   "pygments_lexer": "ipython3",
   "version": "3.10.10"
  }
 },
 "nbformat": 4,
 "nbformat_minor": 5
}
