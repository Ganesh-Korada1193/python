{
 "cells": [
  {
   "cell_type": "markdown",
   "id": "60e28c14",
   "metadata": {},
   "source": [
    "## Writing First Python program"
   ]
  },
  {
   "cell_type": "markdown",
   "id": "8cb6d45f",
   "metadata": {},
   "source": []
  }
 ],
 "metadata": {
  "language_info": {
   "name": "python"
  }
 },
 "nbformat": 4,
 "nbformat_minor": 5
}
