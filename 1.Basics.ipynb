{
 "cells": [
  {
   "cell_type": "markdown",
   "id": "60e28c14",
   "metadata": {},
   "source": [
    "### Writing First Python program"
   ]
  },
  {
   "cell_type": "markdown",
   "id": "0a7454c1",
   "metadata": {},
   "source": [
    "### Understanding comments"
   ]
  },
  {
   "cell_type": "markdown",
   "id": "8cf5b6ff",
   "metadata": {},
   "source": [
    "### Variables"
   ]
  },
  {
   "cell_type": "markdown",
   "id": "c41e9b2f",
   "metadata": {},
   "source": [
    "### Data types"
   ]
  },
  {
   "cell_type": "markdown",
   "id": "c14f85f4",
   "metadata": {},
   "source": [
    "### Keywords"
   ]
  },
  {
   "cell_type": "markdown",
   "id": "3eca4e59",
   "metadata": {},
   "source": [
    "### operators"
   ]
  },
  {
   "cell_type": "markdown",
   "id": "5b39d733",
   "metadata": {},
   "source": []
  }
 ],
 "metadata": {
  "kernelspec": {
   "display_name": "Python 3",
   "language": "python",
   "name": "python3"
  },
  "language_info": {
   "codemirror_mode": {
    "name": "ipython",
    "version": 3
   },
   "file_extension": ".py",
   "mimetype": "text/x-python",
   "name": "python",
   "nbconvert_exporter": "python",
   "pygments_lexer": "ipython3",
   "version": "3.10.10"
  }
 },
 "nbformat": 4,
 "nbformat_minor": 5
}
